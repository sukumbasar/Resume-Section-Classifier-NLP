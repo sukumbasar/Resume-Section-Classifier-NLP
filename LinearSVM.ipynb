{
  "nbformat": 4,
  "nbformat_minor": 0,
  "metadata": {
    "colab": {
      "provenance": []
    },
    "kernelspec": {
      "name": "python3",
      "display_name": "Python 3"
    },
    "language_info": {
      "name": "python"
    }
  },
  "cells": [
    {
      "cell_type": "code",
      "execution_count": 1,
      "metadata": {
        "colab": {
          "base_uri": "https://localhost:8080/"
        },
        "id": "uk6wcn5QZeVj",
        "outputId": "367e7de8-318f-44de-a9e0-a662ca12dade"
      },
      "outputs": [
        {
          "output_type": "stream",
          "name": "stderr",
          "text": [
            "[nltk_data] Downloading package stopwords to /root/nltk_data...\n",
            "[nltk_data]   Unzipping corpora/stopwords.zip.\n",
            "[nltk_data] Downloading package wordnet to /root/nltk_data...\n"
          ]
        },
        {
          "output_type": "stream",
          "name": "stdout",
          "text": [
            "NLTK kaynakları indirildi.\n"
          ]
        }
      ],
      "source": [
        "import pandas as pd\n",
        "import re\n",
        "from nltk.corpus import stopwords\n",
        "from nltk.stem import WordNetLemmatizer\n",
        "import nltk\n",
        "from sklearn.model_selection import train_test_split\n",
        "from sklearn.feature_extraction.text import TfidfVectorizer\n",
        "from sklearn.preprocessing import LabelEncoder\n",
        "from sklearn.svm import LinearSVC\n",
        "from sklearn.metrics import accuracy_score, classification_report\n",
        "from google.colab import files # Dosya yükleme aracı\n",
        "import warnings\n",
        "\n",
        "warnings.filterwarnings('ignore')\n",
        "\n",
        "# NLTK kaynaklarını indir (daha önce indirmediysen)\n",
        "try:\n",
        "    stopwords.words('english')\n",
        "    WordNetLemmatizer()\n",
        "except LookupError:\n",
        "    nltk.download('stopwords')\n",
        "    nltk.download('wordnet')\n",
        "    print(\"NLTK kaynakları indirildi.\")"
      ]
    },
    {
      "cell_type": "code",
      "source": [
        "# Yükleme penceresini açar\n",
        "print(\"Lütfen indirdiğiniz temizlenmiş 'clean_cv_data.csv' dosyasını seçin ve yükleyin.\")\n",
        "uploaded = files.upload()\n",
        "\n",
        "# Yüklenen dosyanın adını al\n",
        "file_name = list(uploaded.keys())[0]\n",
        "\n",
        "# Dosyayı Pandas DataFrame olarak yükle\n",
        "df = pd.read_csv(file_name)\n",
        "\n",
        "print(f\"\\nDosya Başarıyla Yüklendi: {file_name}\")\n",
        "print(f\"Toplam Satır Sayısı: {df.shape[0]}\")\n",
        "print(\"İlk 5 Satır:\")\n",
        "print(df.head())"
      ],
      "metadata": {
        "colab": {
          "base_uri": "https://localhost:8080/",
          "height": 290
        },
        "id": "w5PIOGVUZs6w",
        "outputId": "9fe4b652-c581-4f55-d43b-fa6b0e7fe223"
      },
      "execution_count": 2,
      "outputs": [
        {
          "output_type": "stream",
          "name": "stdout",
          "text": [
            "Lütfen indirdiğiniz temizlenmiş 'clean_cv_data.csv' dosyasını seçin ve yükleyin.\n"
          ]
        },
        {
          "output_type": "display_data",
          "data": {
            "text/plain": [
              "<IPython.core.display.HTML object>"
            ],
            "text/html": [
              "\n",
              "     <input type=\"file\" id=\"files-ab0858f8-85b7-411c-aaf3-38747593affb\" name=\"files[]\" multiple disabled\n",
              "        style=\"border:none\" />\n",
              "     <output id=\"result-ab0858f8-85b7-411c-aaf3-38747593affb\">\n",
              "      Upload widget is only available when the cell has been executed in the\n",
              "      current browser session. Please rerun this cell to enable.\n",
              "      </output>\n",
              "      <script>// Copyright 2017 Google LLC\n",
              "//\n",
              "// Licensed under the Apache License, Version 2.0 (the \"License\");\n",
              "// you may not use this file except in compliance with the License.\n",
              "// You may obtain a copy of the License at\n",
              "//\n",
              "//      http://www.apache.org/licenses/LICENSE-2.0\n",
              "//\n",
              "// Unless required by applicable law or agreed to in writing, software\n",
              "// distributed under the License is distributed on an \"AS IS\" BASIS,\n",
              "// WITHOUT WARRANTIES OR CONDITIONS OF ANY KIND, either express or implied.\n",
              "// See the License for the specific language governing permissions and\n",
              "// limitations under the License.\n",
              "\n",
              "/**\n",
              " * @fileoverview Helpers for google.colab Python module.\n",
              " */\n",
              "(function(scope) {\n",
              "function span(text, styleAttributes = {}) {\n",
              "  const element = document.createElement('span');\n",
              "  element.textContent = text;\n",
              "  for (const key of Object.keys(styleAttributes)) {\n",
              "    element.style[key] = styleAttributes[key];\n",
              "  }\n",
              "  return element;\n",
              "}\n",
              "\n",
              "// Max number of bytes which will be uploaded at a time.\n",
              "const MAX_PAYLOAD_SIZE = 100 * 1024;\n",
              "\n",
              "function _uploadFiles(inputId, outputId) {\n",
              "  const steps = uploadFilesStep(inputId, outputId);\n",
              "  const outputElement = document.getElementById(outputId);\n",
              "  // Cache steps on the outputElement to make it available for the next call\n",
              "  // to uploadFilesContinue from Python.\n",
              "  outputElement.steps = steps;\n",
              "\n",
              "  return _uploadFilesContinue(outputId);\n",
              "}\n",
              "\n",
              "// This is roughly an async generator (not supported in the browser yet),\n",
              "// where there are multiple asynchronous steps and the Python side is going\n",
              "// to poll for completion of each step.\n",
              "// This uses a Promise to block the python side on completion of each step,\n",
              "// then passes the result of the previous step as the input to the next step.\n",
              "function _uploadFilesContinue(outputId) {\n",
              "  const outputElement = document.getElementById(outputId);\n",
              "  const steps = outputElement.steps;\n",
              "\n",
              "  const next = steps.next(outputElement.lastPromiseValue);\n",
              "  return Promise.resolve(next.value.promise).then((value) => {\n",
              "    // Cache the last promise value to make it available to the next\n",
              "    // step of the generator.\n",
              "    outputElement.lastPromiseValue = value;\n",
              "    return next.value.response;\n",
              "  });\n",
              "}\n",
              "\n",
              "/**\n",
              " * Generator function which is called between each async step of the upload\n",
              " * process.\n",
              " * @param {string} inputId Element ID of the input file picker element.\n",
              " * @param {string} outputId Element ID of the output display.\n",
              " * @return {!Iterable<!Object>} Iterable of next steps.\n",
              " */\n",
              "function* uploadFilesStep(inputId, outputId) {\n",
              "  const inputElement = document.getElementById(inputId);\n",
              "  inputElement.disabled = false;\n",
              "\n",
              "  const outputElement = document.getElementById(outputId);\n",
              "  outputElement.innerHTML = '';\n",
              "\n",
              "  const pickedPromise = new Promise((resolve) => {\n",
              "    inputElement.addEventListener('change', (e) => {\n",
              "      resolve(e.target.files);\n",
              "    });\n",
              "  });\n",
              "\n",
              "  const cancel = document.createElement('button');\n",
              "  inputElement.parentElement.appendChild(cancel);\n",
              "  cancel.textContent = 'Cancel upload';\n",
              "  const cancelPromise = new Promise((resolve) => {\n",
              "    cancel.onclick = () => {\n",
              "      resolve(null);\n",
              "    };\n",
              "  });\n",
              "\n",
              "  // Wait for the user to pick the files.\n",
              "  const files = yield {\n",
              "    promise: Promise.race([pickedPromise, cancelPromise]),\n",
              "    response: {\n",
              "      action: 'starting',\n",
              "    }\n",
              "  };\n",
              "\n",
              "  cancel.remove();\n",
              "\n",
              "  // Disable the input element since further picks are not allowed.\n",
              "  inputElement.disabled = true;\n",
              "\n",
              "  if (!files) {\n",
              "    return {\n",
              "      response: {\n",
              "        action: 'complete',\n",
              "      }\n",
              "    };\n",
              "  }\n",
              "\n",
              "  for (const file of files) {\n",
              "    const li = document.createElement('li');\n",
              "    li.append(span(file.name, {fontWeight: 'bold'}));\n",
              "    li.append(span(\n",
              "        `(${file.type || 'n/a'}) - ${file.size} bytes, ` +\n",
              "        `last modified: ${\n",
              "            file.lastModifiedDate ? file.lastModifiedDate.toLocaleDateString() :\n",
              "                                    'n/a'} - `));\n",
              "    const percent = span('0% done');\n",
              "    li.appendChild(percent);\n",
              "\n",
              "    outputElement.appendChild(li);\n",
              "\n",
              "    const fileDataPromise = new Promise((resolve) => {\n",
              "      const reader = new FileReader();\n",
              "      reader.onload = (e) => {\n",
              "        resolve(e.target.result);\n",
              "      };\n",
              "      reader.readAsArrayBuffer(file);\n",
              "    });\n",
              "    // Wait for the data to be ready.\n",
              "    let fileData = yield {\n",
              "      promise: fileDataPromise,\n",
              "      response: {\n",
              "        action: 'continue',\n",
              "      }\n",
              "    };\n",
              "\n",
              "    // Use a chunked sending to avoid message size limits. See b/62115660.\n",
              "    let position = 0;\n",
              "    do {\n",
              "      const length = Math.min(fileData.byteLength - position, MAX_PAYLOAD_SIZE);\n",
              "      const chunk = new Uint8Array(fileData, position, length);\n",
              "      position += length;\n",
              "\n",
              "      const base64 = btoa(String.fromCharCode.apply(null, chunk));\n",
              "      yield {\n",
              "        response: {\n",
              "          action: 'append',\n",
              "          file: file.name,\n",
              "          data: base64,\n",
              "        },\n",
              "      };\n",
              "\n",
              "      let percentDone = fileData.byteLength === 0 ?\n",
              "          100 :\n",
              "          Math.round((position / fileData.byteLength) * 100);\n",
              "      percent.textContent = `${percentDone}% done`;\n",
              "\n",
              "    } while (position < fileData.byteLength);\n",
              "  }\n",
              "\n",
              "  // All done.\n",
              "  yield {\n",
              "    response: {\n",
              "      action: 'complete',\n",
              "    }\n",
              "  };\n",
              "}\n",
              "\n",
              "scope.google = scope.google || {};\n",
              "scope.google.colab = scope.google.colab || {};\n",
              "scope.google.colab._files = {\n",
              "  _uploadFiles,\n",
              "  _uploadFilesContinue,\n",
              "};\n",
              "})(self);\n",
              "</script> "
            ]
          },
          "metadata": {}
        },
        {
          "output_type": "stream",
          "name": "stdout",
          "text": [
            "Saving clean_cv_data.csv to clean_cv_data.csv\n",
            "\n",
            "Dosya Başarıyla Yüklendi: clean_cv_data.csv\n",
            "Toplam Satır Sayısı: 40001\n",
            "İlk 5 Satır:\n",
            "                                          clean_text main_label   sub_label\n",
            "0                                 Jitesh Vishwakarma       meta      others\n",
            "1             E-mail-Id: - jvishwakarma123@gmail.com       meta      others\n",
            "2                       Contact Number: - 9960902548       meta      others\n",
            "3                              PROFESSIONAL SUMMARY:     header  experience\n",
            "4  · 4 years of technical experience in implement...    content  experience\n"
          ]
        }
      ]
    },
    {
      "cell_type": "code",
      "source": [
        "# SÜTUN ADLARI GÜNCELLENDİ\n",
        "TEXT_COLUMN = 'clean_text'  # Temizlenmiş metin sütununun yeni adı\n",
        "LABEL_COLUMN = 'main_label' # Etiket sütununun yeni adı\n",
        "\n",
        "# Bu veri setinde boş değerler, bir CV'nin parçası olan boş satırlardan kaynaklanabilir.\n",
        "# Bu nedenle sadece etiket sütununda boş olanları atıyoruz.\n",
        "# Ancak bu veri seti daha çok \"CV metni\" değil, \"CV'nin küçük parçaları\" gibi görünüyor.\n",
        "# Bu durumda, her satırı tek bir \"belge\" gibi ele alacağız.\n",
        "df.dropna(subset=[TEXT_COLUMN, LABEL_COLUMN], inplace=True)\n",
        "\n",
        "# Eğitim ve Test setlerine ayırma\n",
        "X_train, X_test, y_train, y_test = train_test_split(\n",
        "    df[TEXT_COLUMN],\n",
        "    df[LABEL_COLUMN],\n",
        "    test_size=0.20,      # %20 test verisi\n",
        "    random_state=42,\n",
        "    stratify=df[LABEL_COLUMN] # Sınıfların dengesini korumak için şart\n",
        ")\n",
        "\n",
        "print(\"\\n--- Veri Bölme Tamamlandı ---\")\n",
        "print(f\"Eğitim Seti (80%): {len(X_train)} CV/Satır\")\n",
        "print(f\"Test Seti (20%): {len(X_test)} CV/Satır\")"
      ],
      "metadata": {
        "colab": {
          "base_uri": "https://localhost:8080/"
        },
        "id": "z7LU1h1kaBgO",
        "outputId": "6f1f997e-6800-47ba-c049-1a08cc44c3c9"
      },
      "execution_count": 6,
      "outputs": [
        {
          "output_type": "stream",
          "name": "stdout",
          "text": [
            "\n",
            "--- Veri Bölme Tamamlandı ---\n",
            "Eğitim Seti (80%): 32000 CV/Satır\n",
            "Test Seti (20%): 8000 CV/Satır\n"
          ]
        }
      ]
    },
    {
      "cell_type": "code",
      "source": [
        "# Etiketleri (main_label) sayısal hale getir\n",
        "label_encoder = LabelEncoder()\n",
        "y_train_encoded = label_encoder.fit_transform(y_train)\n",
        "y_test_encoded = label_encoder.transform(y_test)\n",
        "\n",
        "# TF-IDF Vectorizer\n",
        "tfidf_vectorizer = TfidfVectorizer(\n",
        "    max_features=10000,\n",
        "    ngram_range=(1, 2),\n",
        "    min_df=3\n",
        ")\n",
        "\n",
        "print(\"\\nTF-IDF Vektörleştirme Başlatıldı...\")\n",
        "\n",
        "X_train_vectors = tfidf_vectorizer.fit_transform(X_train)\n",
        "X_test_vectors = tfidf_vectorizer.transform(X_test)\n",
        "\n",
        "print(\"--- TF-IDF Vektörleştirme Tamamlandı ---\")\n",
        "print(f\"Sözlük Boyutu: {X_train_vectors.shape[1]}\")"
      ],
      "metadata": {
        "colab": {
          "base_uri": "https://localhost:8080/"
        },
        "id": "sbfNZNhtaj1R",
        "outputId": "04a66055-d80d-441d-a2bd-b5808f343a1a"
      },
      "execution_count": 7,
      "outputs": [
        {
          "output_type": "stream",
          "name": "stdout",
          "text": [
            "\n",
            "TF-IDF Vektörleştirme Başlatıldı...\n",
            "--- TF-IDF Vektörleştirme Tamamlandı ---\n",
            "Sözlük Boyutu: 10000\n"
          ]
        }
      ]
    },
    {
      "cell_type": "code",
      "source": [
        "from sklearn.model_selection import GridSearchCV\n",
        "# SVC'yi (Support Vector Classifier) kullanıyoruz ve çekirdeği 'linear' yapıyoruz\n",
        "from sklearn.svm import SVC\n",
        "from sklearn.metrics import accuracy_score, classification_report\n",
        "\n",
        "# 1. Sadece Linear SVM'in C parametresini optimize edelim:\n",
        "# max_iter'ı çok daha yüksek tutmak zorundayız çünkü bu model yavaş yakınsayabilir.\n",
        "svc_params = {\n",
        "    'C': [0.1, 0.5, 1.0, 5.0, 10.0]\n",
        "}\n",
        "\n",
        "# 2. Grid Search'ü başlatma\n",
        "# Linear SVM'i kullanıyoruz: SVC(kernel='linear')\n",
        "svc_grid = GridSearchCV(\n",
        "    SVC(kernel='linear', random_state=42, max_iter=10000, tol=1e-3),\n",
        "    svc_params,\n",
        "    cv=5,\n",
        "    n_jobs=-1,\n",
        "    verbose=2,\n",
        "    scoring='accuracy'\n",
        ")\n",
        "\n",
        "# Eğitilmiş TF-IDF vektörleri üzerinde arama yap\n",
        "print(\"Linear SVM (SVC(kernel='linear')) C parametresi optimize ediliyor...\")\n",
        "# Bu kısım LinearSVC'ye göre daha uzun sürebilir.\n",
        "svc_grid.fit(X_train_vectors, y_train_encoded)\n",
        "\n",
        "# Sonuçları göster\n",
        "print(\"\\n--- LINEAR SVM (SVC) OPTİMİZASYON SONUÇLARI ---\")\n",
        "print(f\"En İyi Doğruluk (Cross-Validation): {svc_grid.best_score_:.4f}\")\n",
        "print(f\"En İyi C Parametresi: {svc_grid.best_params_['C']}\")\n",
        "\n",
        "# 3. En iyi model ile son testi yap\n",
        "best_svc_model = svc_grid.best_estimator_\n",
        "y_pred_optimized = best_svc_model.predict(X_test_vectors)\n",
        "accuracy_optimized = accuracy_score(y_test_encoded, y_pred_optimized)\n",
        "\n",
        "print(f\"\\nTest Seti Üzerindeki Nihai Doğruluk (Linear SVM): {accuracy_optimized:.4f}\")\n",
        "target_names = label_encoder.classes_\n",
        "print(\"Sınıflandırma Raporu:\")\n",
        "print(classification_report(y_test_encoded, y_pred_optimized, target_names=target_names, zero_division=0))"
      ],
      "metadata": {
        "colab": {
          "base_uri": "https://localhost:8080/"
        },
        "id": "ZMhudCBsfsAA",
        "outputId": "a54c7056-e8a7-4396-c1be-2caf5f841618"
      },
      "execution_count": 11,
      "outputs": [
        {
          "output_type": "stream",
          "name": "stdout",
          "text": [
            "Linear SVM (SVC(kernel='linear')) C parametresi optimize ediliyor...\n",
            "Fitting 5 folds for each of 5 candidates, totalling 25 fits\n",
            "\n",
            "--- LINEAR SVM (SVC) OPTİMİZASYON SONUÇLARI ---\n",
            "En İyi Doğruluk (Cross-Validation): 0.8721\n",
            "En İyi C Parametresi: 1.0\n",
            "\n",
            "Test Seti Üzerindeki Nihai Doğruluk (Linear SVM): 0.8744\n",
            "Sınıflandırma Raporu:\n",
            "              precision    recall  f1-score   support\n",
            "\n",
            "     content       0.89      0.96      0.92      5468\n",
            "      header       0.84      0.78      0.81      1070\n",
            "        meta       0.83      0.64      0.72      1462\n",
            "\n",
            "    accuracy                           0.87      8000\n",
            "   macro avg       0.85      0.79      0.82      8000\n",
            "weighted avg       0.87      0.87      0.87      8000\n",
            "\n"
          ]
        }
      ]
    }
  ]
}