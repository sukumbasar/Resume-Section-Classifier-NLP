{
  "nbformat": 4,
  "nbformat_minor": 0,
  "metadata": {
    "colab": {
      "provenance": [],
      "gpuType": "T4"
    },
    "kernelspec": {
      "name": "python3",
      "display_name": "Python 3"
    },
    "language_info": {
      "name": "python"
    },
    "accelerator": "GPU"
  },
  "cells": [
    {
      "cell_type": "code",
      "execution_count": null,
      "metadata": {
        "colab": {
          "base_uri": "https://localhost:8080/"
        },
        "id": "YWiTba9DKrVk",
        "outputId": "11aa2d40-6606-4c24-cefa-45f2252c9d0d"
      },
      "outputs": [
        {
          "output_type": "stream",
          "name": "stdout",
          "text": [
            "\u001b[33mWARNING: Skipping tensorflow-cpu as it is not installed.\u001b[0m\u001b[33m\n",
            "\u001b[0m\u001b[33mWARNING: Skipping tensorflow-gpu as it is not installed.\u001b[0m\u001b[33m\n",
            "\u001b[0m\u001b[33mWARNING: Skipping tensorflow-decision-forests as it is not installed.\u001b[0m\u001b[33m\n",
            "\u001b[0m\u001b[33mWARNING: Skipping keras-hub as it is not installed.\u001b[0m\u001b[33m\n",
            "\u001b[0m\u001b[33mWARNING: Skipping dopamine-rl as it is not installed.\u001b[0m\u001b[33m\n",
            "\u001b[0m\u001b[33mWARNING: Skipping jax as it is not installed.\u001b[0m\u001b[33m\n",
            "\u001b[0m\u001b[33mWARNING: Skipping jaxlib as it is not installed.\u001b[0m\u001b[33m\n",
            "\u001b[0m\u001b[33mWARNING: Skipping dm-tree as it is not installed.\u001b[0m\u001b[33m\n",
            "\u001b[0m"
          ]
        }
      ],
      "source": [
        "!pip -q uninstall -y \\\n",
        "  tensorflow tensorflow-cpu tensorflow-gpu keras tf-keras tensorflow-text \\\n",
        "  tensorflow-decision-forests keras-hub dopamine-rl jax jaxlib dm-tree\n"
      ]
    },
    {
      "cell_type": "code",
      "source": [
        "# TF 2.19 ekosistemi birbiriyle uyumlu çalışır\n",
        "!pip -q install \"tensorflow==2.19.*\" \"tf-keras==2.19.*\" \"tensorflow-text==2.19.*\"\n",
        "# sklearn'i güncellemek istersen (opsiyonel)\n",
        "!pip -q install -U scikit-learn\n"
      ],
      "metadata": {
        "id": "__302qyFNmND"
      },
      "execution_count": null,
      "outputs": []
    },
    {
      "cell_type": "code",
      "source": [
        "import os, json, numpy as np, pandas as pd\n",
        "from sklearn.model_selection import train_test_split\n",
        "from sklearn.preprocessing import LabelEncoder\n",
        "from sklearn.utils.class_weight import compute_class_weight\n",
        "from sklearn.metrics import classification_report, confusion_matrix, f1_score, accuracy_score\n",
        "\n",
        "import tensorflow as tf\n",
        "from tensorflow.keras.preprocessing.text import Tokenizer\n",
        "from tensorflow.keras.preprocessing.sequence import pad_sequences\n",
        "from tensorflow.keras.models import Sequential\n",
        "from tensorflow.keras.layers import Embedding, LSTM, Dense, Dropout, Bidirectional\n",
        "from tensorflow.keras.callbacks import EarlyStopping, ReduceLROnPlateau, ModelCheckpoint\n",
        "\n",
        "# Sabitler\n",
        "SEED = 42\n",
        "tf.keras.utils.set_random_seed(SEED)\n",
        "\n",
        "TEXT_COL = \"clean_text\"\n",
        "TARGET_COL = \"main_label\"\n",
        "\n",
        "MAX_WORDS = 20000\n",
        "MAXLEN    = 40\n",
        "EMB_DIM   = 128\n",
        "LSTM_UNITS= 64\n",
        "BATCH     = 256\n",
        "EPOCHS    = 15\n",
        "\n"
      ],
      "metadata": {
        "id": "Nqg8yqqSLh33"
      },
      "execution_count": null,
      "outputs": []
    },
    {
      "cell_type": "code",
      "source": [
        "import pandas as pd\n",
        "\n",
        "df = pd.read_csv(\"/content/clean_cv_data.csv\")\n",
        "print(df.shape)\n",
        "df.head()\n"
      ],
      "metadata": {
        "colab": {
          "base_uri": "https://localhost:8080/",
          "height": 224
        },
        "id": "Ssb2j3R9T7a5",
        "outputId": "98fd3fe6-6650-46fd-e8a1-27fe748e71ca"
      },
      "execution_count": 24,
      "outputs": [
        {
          "output_type": "stream",
          "name": "stdout",
          "text": [
            "(40001, 3)\n"
          ]
        },
        {
          "output_type": "execute_result",
          "data": {
            "text/plain": [
              "                                          clean_text main_label   sub_label\n",
              "0                                 Jitesh Vishwakarma       meta      others\n",
              "1             E-mail-Id: - jvishwakarma123@gmail.com       meta      others\n",
              "2                       Contact Number: - 9960902548       meta      others\n",
              "3                              PROFESSIONAL SUMMARY:     header  experience\n",
              "4  · 4 years of technical experience in implement...    content  experience"
            ],
            "text/html": [
              "\n",
              "  <div id=\"df-1e8aa9ed-ba12-4aba-95e5-1e26726a6b36\" class=\"colab-df-container\">\n",
              "    <div>\n",
              "<style scoped>\n",
              "    .dataframe tbody tr th:only-of-type {\n",
              "        vertical-align: middle;\n",
              "    }\n",
              "\n",
              "    .dataframe tbody tr th {\n",
              "        vertical-align: top;\n",
              "    }\n",
              "\n",
              "    .dataframe thead th {\n",
              "        text-align: right;\n",
              "    }\n",
              "</style>\n",
              "<table border=\"1\" class=\"dataframe\">\n",
              "  <thead>\n",
              "    <tr style=\"text-align: right;\">\n",
              "      <th></th>\n",
              "      <th>clean_text</th>\n",
              "      <th>main_label</th>\n",
              "      <th>sub_label</th>\n",
              "    </tr>\n",
              "  </thead>\n",
              "  <tbody>\n",
              "    <tr>\n",
              "      <th>0</th>\n",
              "      <td>Jitesh Vishwakarma</td>\n",
              "      <td>meta</td>\n",
              "      <td>others</td>\n",
              "    </tr>\n",
              "    <tr>\n",
              "      <th>1</th>\n",
              "      <td>E-mail-Id: - jvishwakarma123@gmail.com</td>\n",
              "      <td>meta</td>\n",
              "      <td>others</td>\n",
              "    </tr>\n",
              "    <tr>\n",
              "      <th>2</th>\n",
              "      <td>Contact Number: - 9960902548</td>\n",
              "      <td>meta</td>\n",
              "      <td>others</td>\n",
              "    </tr>\n",
              "    <tr>\n",
              "      <th>3</th>\n",
              "      <td>PROFESSIONAL SUMMARY:</td>\n",
              "      <td>header</td>\n",
              "      <td>experience</td>\n",
              "    </tr>\n",
              "    <tr>\n",
              "      <th>4</th>\n",
              "      <td>· 4 years of technical experience in implement...</td>\n",
              "      <td>content</td>\n",
              "      <td>experience</td>\n",
              "    </tr>\n",
              "  </tbody>\n",
              "</table>\n",
              "</div>\n",
              "    <div class=\"colab-df-buttons\">\n",
              "\n",
              "  <div class=\"colab-df-container\">\n",
              "    <button class=\"colab-df-convert\" onclick=\"convertToInteractive('df-1e8aa9ed-ba12-4aba-95e5-1e26726a6b36')\"\n",
              "            title=\"Convert this dataframe to an interactive table.\"\n",
              "            style=\"display:none;\">\n",
              "\n",
              "  <svg xmlns=\"http://www.w3.org/2000/svg\" height=\"24px\" viewBox=\"0 -960 960 960\">\n",
              "    <path d=\"M120-120v-720h720v720H120Zm60-500h600v-160H180v160Zm220 220h160v-160H400v160Zm0 220h160v-160H400v160ZM180-400h160v-160H180v160Zm440 0h160v-160H620v160ZM180-180h160v-160H180v160Zm440 0h160v-160H620v160Z\"/>\n",
              "  </svg>\n",
              "    </button>\n",
              "\n",
              "  <style>\n",
              "    .colab-df-container {\n",
              "      display:flex;\n",
              "      gap: 12px;\n",
              "    }\n",
              "\n",
              "    .colab-df-convert {\n",
              "      background-color: #E8F0FE;\n",
              "      border: none;\n",
              "      border-radius: 50%;\n",
              "      cursor: pointer;\n",
              "      display: none;\n",
              "      fill: #1967D2;\n",
              "      height: 32px;\n",
              "      padding: 0 0 0 0;\n",
              "      width: 32px;\n",
              "    }\n",
              "\n",
              "    .colab-df-convert:hover {\n",
              "      background-color: #E2EBFA;\n",
              "      box-shadow: 0px 1px 2px rgba(60, 64, 67, 0.3), 0px 1px 3px 1px rgba(60, 64, 67, 0.15);\n",
              "      fill: #174EA6;\n",
              "    }\n",
              "\n",
              "    .colab-df-buttons div {\n",
              "      margin-bottom: 4px;\n",
              "    }\n",
              "\n",
              "    [theme=dark] .colab-df-convert {\n",
              "      background-color: #3B4455;\n",
              "      fill: #D2E3FC;\n",
              "    }\n",
              "\n",
              "    [theme=dark] .colab-df-convert:hover {\n",
              "      background-color: #434B5C;\n",
              "      box-shadow: 0px 1px 3px 1px rgba(0, 0, 0, 0.15);\n",
              "      filter: drop-shadow(0px 1px 2px rgba(0, 0, 0, 0.3));\n",
              "      fill: #FFFFFF;\n",
              "    }\n",
              "  </style>\n",
              "\n",
              "    <script>\n",
              "      const buttonEl =\n",
              "        document.querySelector('#df-1e8aa9ed-ba12-4aba-95e5-1e26726a6b36 button.colab-df-convert');\n",
              "      buttonEl.style.display =\n",
              "        google.colab.kernel.accessAllowed ? 'block' : 'none';\n",
              "\n",
              "      async function convertToInteractive(key) {\n",
              "        const element = document.querySelector('#df-1e8aa9ed-ba12-4aba-95e5-1e26726a6b36');\n",
              "        const dataTable =\n",
              "          await google.colab.kernel.invokeFunction('convertToInteractive',\n",
              "                                                    [key], {});\n",
              "        if (!dataTable) return;\n",
              "\n",
              "        const docLinkHtml = 'Like what you see? Visit the ' +\n",
              "          '<a target=\"_blank\" href=https://colab.research.google.com/notebooks/data_table.ipynb>data table notebook</a>'\n",
              "          + ' to learn more about interactive tables.';\n",
              "        element.innerHTML = '';\n",
              "        dataTable['output_type'] = 'display_data';\n",
              "        await google.colab.output.renderOutput(dataTable, element);\n",
              "        const docLink = document.createElement('div');\n",
              "        docLink.innerHTML = docLinkHtml;\n",
              "        element.appendChild(docLink);\n",
              "      }\n",
              "    </script>\n",
              "  </div>\n",
              "\n",
              "\n",
              "    <div id=\"df-df8a9a34-7407-4ed1-8b9c-28b31fdf4fc2\">\n",
              "      <button class=\"colab-df-quickchart\" onclick=\"quickchart('df-df8a9a34-7407-4ed1-8b9c-28b31fdf4fc2')\"\n",
              "                title=\"Suggest charts\"\n",
              "                style=\"display:none;\">\n",
              "\n",
              "<svg xmlns=\"http://www.w3.org/2000/svg\" height=\"24px\"viewBox=\"0 0 24 24\"\n",
              "     width=\"24px\">\n",
              "    <g>\n",
              "        <path d=\"M19 3H5c-1.1 0-2 .9-2 2v14c0 1.1.9 2 2 2h14c1.1 0 2-.9 2-2V5c0-1.1-.9-2-2-2zM9 17H7v-7h2v7zm4 0h-2V7h2v10zm4 0h-2v-4h2v4z\"/>\n",
              "    </g>\n",
              "</svg>\n",
              "      </button>\n",
              "\n",
              "<style>\n",
              "  .colab-df-quickchart {\n",
              "      --bg-color: #E8F0FE;\n",
              "      --fill-color: #1967D2;\n",
              "      --hover-bg-color: #E2EBFA;\n",
              "      --hover-fill-color: #174EA6;\n",
              "      --disabled-fill-color: #AAA;\n",
              "      --disabled-bg-color: #DDD;\n",
              "  }\n",
              "\n",
              "  [theme=dark] .colab-df-quickchart {\n",
              "      --bg-color: #3B4455;\n",
              "      --fill-color: #D2E3FC;\n",
              "      --hover-bg-color: #434B5C;\n",
              "      --hover-fill-color: #FFFFFF;\n",
              "      --disabled-bg-color: #3B4455;\n",
              "      --disabled-fill-color: #666;\n",
              "  }\n",
              "\n",
              "  .colab-df-quickchart {\n",
              "    background-color: var(--bg-color);\n",
              "    border: none;\n",
              "    border-radius: 50%;\n",
              "    cursor: pointer;\n",
              "    display: none;\n",
              "    fill: var(--fill-color);\n",
              "    height: 32px;\n",
              "    padding: 0;\n",
              "    width: 32px;\n",
              "  }\n",
              "\n",
              "  .colab-df-quickchart:hover {\n",
              "    background-color: var(--hover-bg-color);\n",
              "    box-shadow: 0 1px 2px rgba(60, 64, 67, 0.3), 0 1px 3px 1px rgba(60, 64, 67, 0.15);\n",
              "    fill: var(--button-hover-fill-color);\n",
              "  }\n",
              "\n",
              "  .colab-df-quickchart-complete:disabled,\n",
              "  .colab-df-quickchart-complete:disabled:hover {\n",
              "    background-color: var(--disabled-bg-color);\n",
              "    fill: var(--disabled-fill-color);\n",
              "    box-shadow: none;\n",
              "  }\n",
              "\n",
              "  .colab-df-spinner {\n",
              "    border: 2px solid var(--fill-color);\n",
              "    border-color: transparent;\n",
              "    border-bottom-color: var(--fill-color);\n",
              "    animation:\n",
              "      spin 1s steps(1) infinite;\n",
              "  }\n",
              "\n",
              "  @keyframes spin {\n",
              "    0% {\n",
              "      border-color: transparent;\n",
              "      border-bottom-color: var(--fill-color);\n",
              "      border-left-color: var(--fill-color);\n",
              "    }\n",
              "    20% {\n",
              "      border-color: transparent;\n",
              "      border-left-color: var(--fill-color);\n",
              "      border-top-color: var(--fill-color);\n",
              "    }\n",
              "    30% {\n",
              "      border-color: transparent;\n",
              "      border-left-color: var(--fill-color);\n",
              "      border-top-color: var(--fill-color);\n",
              "      border-right-color: var(--fill-color);\n",
              "    }\n",
              "    40% {\n",
              "      border-color: transparent;\n",
              "      border-right-color: var(--fill-color);\n",
              "      border-top-color: var(--fill-color);\n",
              "    }\n",
              "    60% {\n",
              "      border-color: transparent;\n",
              "      border-right-color: var(--fill-color);\n",
              "    }\n",
              "    80% {\n",
              "      border-color: transparent;\n",
              "      border-right-color: var(--fill-color);\n",
              "      border-bottom-color: var(--fill-color);\n",
              "    }\n",
              "    90% {\n",
              "      border-color: transparent;\n",
              "      border-bottom-color: var(--fill-color);\n",
              "    }\n",
              "  }\n",
              "</style>\n",
              "\n",
              "      <script>\n",
              "        async function quickchart(key) {\n",
              "          const quickchartButtonEl =\n",
              "            document.querySelector('#' + key + ' button');\n",
              "          quickchartButtonEl.disabled = true;  // To prevent multiple clicks.\n",
              "          quickchartButtonEl.classList.add('colab-df-spinner');\n",
              "          try {\n",
              "            const charts = await google.colab.kernel.invokeFunction(\n",
              "                'suggestCharts', [key], {});\n",
              "          } catch (error) {\n",
              "            console.error('Error during call to suggestCharts:', error);\n",
              "          }\n",
              "          quickchartButtonEl.classList.remove('colab-df-spinner');\n",
              "          quickchartButtonEl.classList.add('colab-df-quickchart-complete');\n",
              "        }\n",
              "        (() => {\n",
              "          let quickchartButtonEl =\n",
              "            document.querySelector('#df-df8a9a34-7407-4ed1-8b9c-28b31fdf4fc2 button');\n",
              "          quickchartButtonEl.style.display =\n",
              "            google.colab.kernel.accessAllowed ? 'block' : 'none';\n",
              "        })();\n",
              "      </script>\n",
              "    </div>\n",
              "\n",
              "    </div>\n",
              "  </div>\n"
            ],
            "application/vnd.google.colaboratory.intrinsic+json": {
              "type": "dataframe",
              "variable_name": "df",
              "summary": "{\n  \"name\": \"df\",\n  \"rows\": 40001,\n  \"fields\": [\n    {\n      \"column\": \"clean_text\",\n      \"properties\": {\n        \"dtype\": \"string\",\n        \"num_unique_values\": 30676,\n        \"samples\": [\n          \"MARKS OBTAINED/CGPA\",\n          \"EMPLOYMENT EXPECTATION :-\",\n          \"Key Skill Summary\"\n        ],\n        \"semantic_type\": \"\",\n        \"description\": \"\"\n      }\n    },\n    {\n      \"column\": \"main_label\",\n      \"properties\": {\n        \"dtype\": \"category\",\n        \"num_unique_values\": 3,\n        \"samples\": [\n          \"meta\",\n          \"header\",\n          \"content\"\n        ],\n        \"semantic_type\": \"\",\n        \"description\": \"\"\n      }\n    },\n    {\n      \"column\": \"sub_label\",\n      \"properties\": {\n        \"dtype\": \"category\",\n        \"num_unique_values\": 6,\n        \"samples\": [\n          \"others\",\n          \"experience\",\n          \"otherse\"\n        ],\n        \"semantic_type\": \"\",\n        \"description\": \"\"\n      }\n    }\n  ]\n}"
            }
          },
          "metadata": {},
          "execution_count": 24
        }
      ]
    },
    {
      "cell_type": "code",
      "source": [
        "from google.colab import drive\n",
        "drive.mount('/content/drive')"
      ],
      "metadata": {
        "id": "jbtvUXGkrWoB",
        "outputId": "f7c2cfa8-2258-4a34-daf1-58dd2b4b1db9",
        "colab": {
          "base_uri": "https://localhost:8080/"
        }
      },
      "execution_count": 22,
      "outputs": [
        {
          "output_type": "stream",
          "name": "stdout",
          "text": [
            "Mounted at /content/drive\n"
          ]
        }
      ]
    },
    {
      "cell_type": "code",
      "source": [
        "print(df[TARGET_COL].value_counts())\n",
        "df[\"len\"] = df[TEXT_COL].astype(str).str.split().apply(len)\n",
        "print(\"Ortalama uzunluk:\", round(df[\"len\"].mean(), 2), \"| 95.percentile:\", np.percentile(df[\"len\"], 95))\n"
      ],
      "metadata": {
        "colab": {
          "base_uri": "https://localhost:8080/"
        },
        "id": "44WNDut-Lh8B",
        "outputId": "54828b6a-cb1b-4d90-85e7-113371d6e43b"
      },
      "execution_count": 25,
      "outputs": [
        {
          "output_type": "stream",
          "name": "stdout",
          "text": [
            "main_label\n",
            "content    27341\n",
            "meta        7311\n",
            "header      5349\n",
            "Name: count, dtype: int64\n",
            "Ortalama uzunluk: 6.52 | 95.percentile: 19.0\n"
          ]
        }
      ]
    },
    {
      "cell_type": "code",
      "source": [
        "le = LabelEncoder()\n",
        "y = le.fit_transform(df[TARGET_COL].astype(str))\n",
        "\n",
        "X_train, X_temp, y_train, y_temp = train_test_split(\n",
        "    df[TEXT_COL].astype(str), y, test_size=0.2, random_state=SEED, stratify=y\n",
        ")\n",
        "X_val, X_test, y_val, y_test = train_test_split(\n",
        "    X_temp, y_temp, test_size=0.5, random_state=SEED, stratify=y_temp\n",
        ")\n",
        "\n",
        "print(\"Sınıf sayısı:\", len(le.classes_), \"→\", le.classes_)\n",
        "\n"
      ],
      "metadata": {
        "id": "-RSjdeAVLh_q",
        "colab": {
          "base_uri": "https://localhost:8080/"
        },
        "outputId": "0ed62c97-f268-4cf8-aea3-f43d33362b55"
      },
      "execution_count": 26,
      "outputs": [
        {
          "output_type": "stream",
          "name": "stdout",
          "text": [
            "Sınıf sayısı: 3 → ['content' 'header' 'meta']\n"
          ]
        }
      ]
    },
    {
      "cell_type": "code",
      "source": [
        "tokenizer = Tokenizer(num_words=MAX_WORDS, oov_token=\"<OOV>\")\n",
        "tokenizer.fit_on_texts(X_train)\n",
        "\n",
        "def to_pad(texts):\n",
        "    seqs = tokenizer.texts_to_sequences(texts)\n",
        "    return pad_sequences(seqs, maxlen=MAXLEN, padding=\"post\", truncating=\"post\")\n",
        "\n",
        "X_train_pad = to_pad(X_train)\n",
        "X_val_pad   = to_pad(X_val)\n",
        "X_test_pad  = to_pad(X_test)\n",
        "\n",
        "vocab_size = min(MAX_WORDS, len(tokenizer.word_index) + 1)\n",
        "print(\"Vocab size:\", vocab_size)\n",
        "\n",
        "vocab_size\n"
      ],
      "metadata": {
        "id": "DCCLkakGLiNF",
        "colab": {
          "base_uri": "https://localhost:8080/"
        },
        "outputId": "6341bf0e-69fa-4e49-844b-77fc6c81e217"
      },
      "execution_count": 27,
      "outputs": [
        {
          "output_type": "stream",
          "name": "stdout",
          "text": [
            "Vocab size: 17890\n"
          ]
        },
        {
          "output_type": "execute_result",
          "data": {
            "text/plain": [
              "17890"
            ]
          },
          "metadata": {},
          "execution_count": 27
        }
      ]
    },
    {
      "cell_type": "code",
      "source": [
        "cls_weights = compute_class_weight(\n",
        "    class_weight=\"balanced\",\n",
        "    classes=np.unique(y_train),\n",
        "    y=y_train\n",
        ")\n",
        "class_weight_dict = {i:w for i,w in enumerate(cls_weights)}\n",
        "print(\"Class weights:\", class_weight_dict)\n"
      ],
      "metadata": {
        "id": "LYOSXQy4LiQp",
        "colab": {
          "base_uri": "https://localhost:8080/"
        },
        "outputId": "05596816-b8cd-43ef-c3b1-281d29cfeed9"
      },
      "execution_count": 28,
      "outputs": [
        {
          "output_type": "stream",
          "name": "stdout",
          "text": [
            "Class weights: {0: np.float64(0.48768593026091195), 1: np.float64(2.492794266573187), 2: np.float64(1.8236735624323246)}\n"
          ]
        }
      ]
    },
    {
      "cell_type": "code",
      "source": [
        "cls_weights = compute_class_weight(\n",
        "    class_weight=\"balanced\",\n",
        "    classes=np.unique(y_train),\n",
        "    y=y_train\n",
        ")\n",
        "class_weight_dict = {i:w for i,w in enumerate(cls_weights)}\n",
        "print(\"Class weights:\", class_weight_dict)\n"
      ],
      "metadata": {
        "id": "GPuTaI50LvNI",
        "colab": {
          "base_uri": "https://localhost:8080/"
        },
        "outputId": "333427cb-3586-4e0e-9dc3-1a3bfb148be3"
      },
      "execution_count": 29,
      "outputs": [
        {
          "output_type": "stream",
          "name": "stdout",
          "text": [
            "Class weights: {0: np.float64(0.48768593026091195), 1: np.float64(2.492794266573187), 2: np.float64(1.8236735624323246)}\n"
          ]
        }
      ]
    },
    {
      "cell_type": "code",
      "source": [
        "chk_path = \"/content/bilstm_best.keras\"\n",
        "callbacks = [\n",
        "    EarlyStopping(monitor=\"val_accuracy\", patience=3, restore_best_weights=True, verbose=1),\n",
        "    ReduceLROnPlateau(monitor=\"val_loss\", factor=0.5, patience=2, verbose=1),\n",
        "    ModelCheckpoint(chk_path, monitor=\"val_accuracy\", save_best_only=True, verbose=1)\n",
        "]\n"
      ],
      "metadata": {
        "id": "yrQ192ARLvPQ"
      },
      "execution_count": 30,
      "outputs": []
    },
    {
      "cell_type": "code",
      "source": [
        "from tensorflow.keras.models import Sequential\n",
        "from tensorflow.keras.layers import Embedding, LSTM, Dense, Dropout, Bidirectional\n",
        "\n",
        "model = Sequential([\n",
        "    Embedding(input_dim=vocab_size, output_dim=EMB_DIM, input_length=MAXLEN),\n",
        "    Bidirectional(LSTM(LSTM_UNITS, return_sequences=False)),\n",
        "    Dropout(0.4),\n",
        "    Dense(64, activation=\"relu\"),\n",
        "    Dropout(0.3),\n",
        "    Dense(len(le.classes_), activation=\"softmax\")\n",
        "])\n",
        "\n",
        "model.compile(optimizer=\"adam\",\n",
        "              loss=\"sparse_categorical_crossentropy\",\n",
        "              metrics=[\"accuracy\"])\n",
        "\n",
        "model.summary()\n"
      ],
      "metadata": {
        "id": "QVGBuWjGUe7z",
        "colab": {
          "base_uri": "https://localhost:8080/",
          "height": 395
        },
        "outputId": "b76e6779-becb-450f-b9e9-0066bce1594e"
      },
      "execution_count": 31,
      "outputs": [
        {
          "output_type": "stream",
          "name": "stderr",
          "text": [
            "/usr/local/lib/python3.12/dist-packages/keras/src/layers/core/embedding.py:97: UserWarning: Argument `input_length` is deprecated. Just remove it.\n",
            "  warnings.warn(\n"
          ]
        },
        {
          "output_type": "display_data",
          "data": {
            "text/plain": [
              "\u001b[1mModel: \"sequential\"\u001b[0m\n"
            ],
            "text/html": [
              "<pre style=\"white-space:pre;overflow-x:auto;line-height:normal;font-family:Menlo,'DejaVu Sans Mono',consolas,'Courier New',monospace\"><span style=\"font-weight: bold\">Model: \"sequential\"</span>\n",
              "</pre>\n"
            ]
          },
          "metadata": {}
        },
        {
          "output_type": "display_data",
          "data": {
            "text/plain": [
              "┏━━━━━━━━━━━━━━━━━━━━━━━━━━━━━━━━━┳━━━━━━━━━━━━━━━━━━━━━━━━┳━━━━━━━━━━━━━━━┓\n",
              "┃\u001b[1m \u001b[0m\u001b[1mLayer (type)                   \u001b[0m\u001b[1m \u001b[0m┃\u001b[1m \u001b[0m\u001b[1mOutput Shape          \u001b[0m\u001b[1m \u001b[0m┃\u001b[1m \u001b[0m\u001b[1m      Param #\u001b[0m\u001b[1m \u001b[0m┃\n",
              "┡━━━━━━━━━━━━━━━━━━━━━━━━━━━━━━━━━╇━━━━━━━━━━━━━━━━━━━━━━━━╇━━━━━━━━━━━━━━━┩\n",
              "│ embedding (\u001b[38;5;33mEmbedding\u001b[0m)           │ ?                      │   \u001b[38;5;34m0\u001b[0m (unbuilt) │\n",
              "├─────────────────────────────────┼────────────────────────┼───────────────┤\n",
              "│ bidirectional (\u001b[38;5;33mBidirectional\u001b[0m)   │ ?                      │   \u001b[38;5;34m0\u001b[0m (unbuilt) │\n",
              "├─────────────────────────────────┼────────────────────────┼───────────────┤\n",
              "│ dropout (\u001b[38;5;33mDropout\u001b[0m)               │ ?                      │             \u001b[38;5;34m0\u001b[0m │\n",
              "├─────────────────────────────────┼────────────────────────┼───────────────┤\n",
              "│ dense (\u001b[38;5;33mDense\u001b[0m)                   │ ?                      │   \u001b[38;5;34m0\u001b[0m (unbuilt) │\n",
              "├─────────────────────────────────┼────────────────────────┼───────────────┤\n",
              "│ dropout_1 (\u001b[38;5;33mDropout\u001b[0m)             │ ?                      │             \u001b[38;5;34m0\u001b[0m │\n",
              "├─────────────────────────────────┼────────────────────────┼───────────────┤\n",
              "│ dense_1 (\u001b[38;5;33mDense\u001b[0m)                 │ ?                      │   \u001b[38;5;34m0\u001b[0m (unbuilt) │\n",
              "└─────────────────────────────────┴────────────────────────┴───────────────┘\n"
            ],
            "text/html": [
              "<pre style=\"white-space:pre;overflow-x:auto;line-height:normal;font-family:Menlo,'DejaVu Sans Mono',consolas,'Courier New',monospace\">┏━━━━━━━━━━━━━━━━━━━━━━━━━━━━━━━━━┳━━━━━━━━━━━━━━━━━━━━━━━━┳━━━━━━━━━━━━━━━┓\n",
              "┃<span style=\"font-weight: bold\"> Layer (type)                    </span>┃<span style=\"font-weight: bold\"> Output Shape           </span>┃<span style=\"font-weight: bold\">       Param # </span>┃\n",
              "┡━━━━━━━━━━━━━━━━━━━━━━━━━━━━━━━━━╇━━━━━━━━━━━━━━━━━━━━━━━━╇━━━━━━━━━━━━━━━┩\n",
              "│ embedding (<span style=\"color: #0087ff; text-decoration-color: #0087ff\">Embedding</span>)           │ ?                      │   <span style=\"color: #00af00; text-decoration-color: #00af00\">0</span> (unbuilt) │\n",
              "├─────────────────────────────────┼────────────────────────┼───────────────┤\n",
              "│ bidirectional (<span style=\"color: #0087ff; text-decoration-color: #0087ff\">Bidirectional</span>)   │ ?                      │   <span style=\"color: #00af00; text-decoration-color: #00af00\">0</span> (unbuilt) │\n",
              "├─────────────────────────────────┼────────────────────────┼───────────────┤\n",
              "│ dropout (<span style=\"color: #0087ff; text-decoration-color: #0087ff\">Dropout</span>)               │ ?                      │             <span style=\"color: #00af00; text-decoration-color: #00af00\">0</span> │\n",
              "├─────────────────────────────────┼────────────────────────┼───────────────┤\n",
              "│ dense (<span style=\"color: #0087ff; text-decoration-color: #0087ff\">Dense</span>)                   │ ?                      │   <span style=\"color: #00af00; text-decoration-color: #00af00\">0</span> (unbuilt) │\n",
              "├─────────────────────────────────┼────────────────────────┼───────────────┤\n",
              "│ dropout_1 (<span style=\"color: #0087ff; text-decoration-color: #0087ff\">Dropout</span>)             │ ?                      │             <span style=\"color: #00af00; text-decoration-color: #00af00\">0</span> │\n",
              "├─────────────────────────────────┼────────────────────────┼───────────────┤\n",
              "│ dense_1 (<span style=\"color: #0087ff; text-decoration-color: #0087ff\">Dense</span>)                 │ ?                      │   <span style=\"color: #00af00; text-decoration-color: #00af00\">0</span> (unbuilt) │\n",
              "└─────────────────────────────────┴────────────────────────┴───────────────┘\n",
              "</pre>\n"
            ]
          },
          "metadata": {}
        },
        {
          "output_type": "display_data",
          "data": {
            "text/plain": [
              "\u001b[1m Total params: \u001b[0m\u001b[38;5;34m0\u001b[0m (0.00 B)\n"
            ],
            "text/html": [
              "<pre style=\"white-space:pre;overflow-x:auto;line-height:normal;font-family:Menlo,'DejaVu Sans Mono',consolas,'Courier New',monospace\"><span style=\"font-weight: bold\"> Total params: </span><span style=\"color: #00af00; text-decoration-color: #00af00\">0</span> (0.00 B)\n",
              "</pre>\n"
            ]
          },
          "metadata": {}
        },
        {
          "output_type": "display_data",
          "data": {
            "text/plain": [
              "\u001b[1m Trainable params: \u001b[0m\u001b[38;5;34m0\u001b[0m (0.00 B)\n"
            ],
            "text/html": [
              "<pre style=\"white-space:pre;overflow-x:auto;line-height:normal;font-family:Menlo,'DejaVu Sans Mono',consolas,'Courier New',monospace\"><span style=\"font-weight: bold\"> Trainable params: </span><span style=\"color: #00af00; text-decoration-color: #00af00\">0</span> (0.00 B)\n",
              "</pre>\n"
            ]
          },
          "metadata": {}
        },
        {
          "output_type": "display_data",
          "data": {
            "text/plain": [
              "\u001b[1m Non-trainable params: \u001b[0m\u001b[38;5;34m0\u001b[0m (0.00 B)\n"
            ],
            "text/html": [
              "<pre style=\"white-space:pre;overflow-x:auto;line-height:normal;font-family:Menlo,'DejaVu Sans Mono',consolas,'Courier New',monospace\"><span style=\"font-weight: bold\"> Non-trainable params: </span><span style=\"color: #00af00; text-decoration-color: #00af00\">0</span> (0.00 B)\n",
              "</pre>\n"
            ]
          },
          "metadata": {}
        }
      ]
    },
    {
      "cell_type": "code",
      "source": [
        "history = model.fit(\n",
        "    X_train_pad, y_train,\n",
        "    validation_data=(X_val_pad, y_val),\n",
        "    epochs=EPOCHS,\n",
        "    batch_size=BATCH,\n",
        "    class_weight=class_weight_dict,\n",
        "    callbacks=callbacks,\n",
        "    verbose=2\n",
        ")\n"
      ],
      "metadata": {
        "id": "aJnQKKj_LvSo",
        "colab": {
          "base_uri": "https://localhost:8080/"
        },
        "outputId": "cbd4837d-fa66-46eb-f447-bdb3c59676c0"
      },
      "execution_count": 32,
      "outputs": [
        {
          "output_type": "stream",
          "name": "stdout",
          "text": [
            "Epoch 1/15\n",
            "\n",
            "Epoch 1: val_accuracy improved from None to 0.84400, saving model to /content/bilstm_best.keras\n",
            "125/125 - 9s - 71ms/step - accuracy: 0.7251 - loss: 0.7028 - val_accuracy: 0.8440 - val_loss: 0.4466 - learning_rate: 1.0000e-03\n",
            "Epoch 2/15\n",
            "\n",
            "Epoch 2: val_accuracy improved from 0.84400 to 0.85300, saving model to /content/bilstm_best.keras\n",
            "125/125 - 2s - 13ms/step - accuracy: 0.8748 - loss: 0.3900 - val_accuracy: 0.8530 - val_loss: 0.4135 - learning_rate: 1.0000e-03\n",
            "Epoch 3/15\n",
            "\n",
            "Epoch 3: val_accuracy did not improve from 0.85300\n",
            "125/125 - 3s - 21ms/step - accuracy: 0.8985 - loss: 0.3078 - val_accuracy: 0.8418 - val_loss: 0.4421 - learning_rate: 1.0000e-03\n",
            "Epoch 4/15\n",
            "\n",
            "Epoch 4: ReduceLROnPlateau reducing learning rate to 0.0005000000237487257.\n",
            "\n",
            "Epoch 4: val_accuracy did not improve from 0.85300\n",
            "125/125 - 1s - 11ms/step - accuracy: 0.9105 - loss: 0.2641 - val_accuracy: 0.8530 - val_loss: 0.4160 - learning_rate: 1.0000e-03\n",
            "Epoch 5/15\n",
            "\n",
            "Epoch 5: val_accuracy improved from 0.85300 to 0.85575, saving model to /content/bilstm_best.keras\n",
            "125/125 - 1s - 12ms/step - accuracy: 0.9207 - loss: 0.2247 - val_accuracy: 0.8558 - val_loss: 0.4214 - learning_rate: 5.0000e-04\n",
            "Epoch 6/15\n",
            "\n",
            "Epoch 6: ReduceLROnPlateau reducing learning rate to 0.0002500000118743628.\n",
            "\n",
            "Epoch 6: val_accuracy improved from 0.85575 to 0.86000, saving model to /content/bilstm_best.keras\n",
            "125/125 - 1s - 12ms/step - accuracy: 0.9230 - loss: 0.2105 - val_accuracy: 0.8600 - val_loss: 0.4294 - learning_rate: 5.0000e-04\n",
            "Epoch 7/15\n",
            "\n",
            "Epoch 7: val_accuracy did not improve from 0.86000\n",
            "125/125 - 1s - 11ms/step - accuracy: 0.9267 - loss: 0.1984 - val_accuracy: 0.8587 - val_loss: 0.4360 - learning_rate: 2.5000e-04\n",
            "Epoch 8/15\n",
            "\n",
            "Epoch 8: ReduceLROnPlateau reducing learning rate to 0.0001250000059371814.\n",
            "\n",
            "Epoch 8: val_accuracy did not improve from 0.86000\n",
            "125/125 - 1s - 11ms/step - accuracy: 0.9287 - loss: 0.1934 - val_accuracy: 0.8585 - val_loss: 0.4458 - learning_rate: 2.5000e-04\n",
            "Epoch 9/15\n",
            "\n",
            "Epoch 9: val_accuracy improved from 0.86000 to 0.86425, saving model to /content/bilstm_best.keras\n",
            "125/125 - 2s - 12ms/step - accuracy: 0.9310 - loss: 0.1855 - val_accuracy: 0.8643 - val_loss: 0.4447 - learning_rate: 1.2500e-04\n",
            "Epoch 10/15\n",
            "\n",
            "Epoch 10: ReduceLROnPlateau reducing learning rate to 6.25000029685907e-05.\n",
            "\n",
            "Epoch 10: val_accuracy did not improve from 0.86425\n",
            "125/125 - 1s - 12ms/step - accuracy: 0.9324 - loss: 0.1797 - val_accuracy: 0.8627 - val_loss: 0.4518 - learning_rate: 1.2500e-04\n",
            "Epoch 11/15\n",
            "\n",
            "Epoch 11: val_accuracy improved from 0.86425 to 0.86450, saving model to /content/bilstm_best.keras\n",
            "125/125 - 2s - 15ms/step - accuracy: 0.9336 - loss: 0.1791 - val_accuracy: 0.8645 - val_loss: 0.4532 - learning_rate: 6.2500e-05\n",
            "Epoch 12/15\n",
            "\n",
            "Epoch 12: ReduceLROnPlateau reducing learning rate to 3.125000148429535e-05.\n",
            "\n",
            "Epoch 12: val_accuracy did not improve from 0.86450\n",
            "125/125 - 2s - 13ms/step - accuracy: 0.9338 - loss: 0.1782 - val_accuracy: 0.8627 - val_loss: 0.4553 - learning_rate: 6.2500e-05\n",
            "Epoch 13/15\n",
            "\n",
            "Epoch 13: val_accuracy did not improve from 0.86450\n",
            "125/125 - 1s - 11ms/step - accuracy: 0.9351 - loss: 0.1749 - val_accuracy: 0.8633 - val_loss: 0.4559 - learning_rate: 3.1250e-05\n",
            "Epoch 14/15\n",
            "\n",
            "Epoch 14: ReduceLROnPlateau reducing learning rate to 1.5625000742147677e-05.\n",
            "\n",
            "Epoch 14: val_accuracy improved from 0.86450 to 0.86475, saving model to /content/bilstm_best.keras\n",
            "125/125 - 3s - 21ms/step - accuracy: 0.9344 - loss: 0.1763 - val_accuracy: 0.8648 - val_loss: 0.4552 - learning_rate: 3.1250e-05\n",
            "Epoch 15/15\n",
            "\n",
            "Epoch 15: val_accuracy did not improve from 0.86475\n",
            "125/125 - 2s - 19ms/step - accuracy: 0.9350 - loss: 0.1755 - val_accuracy: 0.8643 - val_loss: 0.4566 - learning_rate: 1.5625e-05\n",
            "Restoring model weights from the end of the best epoch: 14.\n"
          ]
        }
      ]
    },
    {
      "cell_type": "code",
      "source": [
        "y_pred_proba = model.predict(X_test_pad, verbose=0)\n",
        "y_pred = np.argmax(y_pred_proba, axis=1)\n",
        "\n",
        "acc = accuracy_score(y_test, y_pred)\n",
        "macro_f1 = f1_score(y_test, y_pred, average=\"macro\")\n",
        "\n",
        "print(\"Test Accuracy:\", round(acc, 4))\n",
        "print(\"Macro F1     :\", round(macro_f1, 4))\n",
        "print()\n",
        "print(classification_report(y_test, y_pred, target_names=le.classes_))\n",
        "print(\"Confusion Matrix:\\n\", confusion_matrix(y_test, y_pred))\n",
        "\n"
      ],
      "metadata": {
        "id": "5V4R9YCML1W2",
        "colab": {
          "base_uri": "https://localhost:8080/"
        },
        "outputId": "c5274028-0179-41a5-8630-289e1595c2e8"
      },
      "execution_count": 33,
      "outputs": [
        {
          "output_type": "stream",
          "name": "stdout",
          "text": [
            "Test Accuracy: 0.8648\n",
            "Macro F1     : 0.8149\n",
            "\n",
            "              precision    recall  f1-score   support\n",
            "\n",
            "     content       0.94      0.89      0.92      2735\n",
            "      header       0.69      0.88      0.77       535\n",
            "        meta       0.75      0.76      0.75       731\n",
            "\n",
            "    accuracy                           0.86      4001\n",
            "   macro avg       0.79      0.84      0.81      4001\n",
            "weighted avg       0.87      0.86      0.87      4001\n",
            "\n",
            "Confusion Matrix:\n",
            " [[2434  133  168]\n",
            " [  46  469   20]\n",
            " [  99   75  557]]\n"
          ]
        }
      ]
    },
    {
      "cell_type": "code",
      "source": [
        "import pickle\n",
        "SAVE_DIR = \"/content/lstm_artifacts\"\n",
        "os.makedirs(SAVE_DIR, exist_ok=True)\n",
        "\n",
        "with open(os.path.join(SAVE_DIR, \"tokenizer.pkl\"), \"wb\") as f:\n",
        "    pickle.dump(tokenizer, f)\n",
        "\n",
        "with open(os.path.join(SAVE_DIR, \"label_encoder.pkl\"), \"wb\") as f:\n",
        "    pickle.dump(le, f)\n",
        "\n",
        "model.save(os.path.join(SAVE_DIR, \"bilstm_model.keras\"))\n",
        "\n",
        "print(\"Kaydedildi:\", SAVE_DIR)\n",
        "\n"
      ],
      "metadata": {
        "id": "HluFAFhaL25_",
        "colab": {
          "base_uri": "https://localhost:8080/"
        },
        "outputId": "cee9842b-cde8-40af-8bc0-4c836d4f3aae"
      },
      "execution_count": 34,
      "outputs": [
        {
          "output_type": "stream",
          "name": "stdout",
          "text": [
            "Kaydedildi: /content/lstm_artifacts\n"
          ]
        }
      ]
    },
    {
      "cell_type": "code",
      "source": [
        "def predict_texts(texts, topk=1):\n",
        "    seq = to_pad(pd.Series(texts).astype(str))\n",
        "    proba = model.predict(seq, verbose=0)\n",
        "    idx = np.argsort(-proba, axis=1)[:, :topk]\n",
        "    labels = [[le.classes_[i] for i in row] for row in idx]\n",
        "    scores = [[float(proba[r, i]) for i in row] for r, row in enumerate(idx)]\n",
        "    return list(zip(labels, scores))\n",
        "\n",
        "# örnek kullanım\n",
        "samples = [\n",
        "    \"education bachelor of science in computer engineering\",\n",
        "    \"skills python java sql machine learning keras\",\n",
        "    \"interests reading traveling football\"\n",
        "]\n",
        "predict_texts(samples, topk=2)\n",
        "\n"
      ],
      "metadata": {
        "id": "JVBybfAIL29Y",
        "colab": {
          "base_uri": "https://localhost:8080/"
        },
        "outputId": "d820ae8b-1277-4e16-d26f-0c971f75bd7f"
      },
      "execution_count": 35,
      "outputs": [
        {
          "output_type": "execute_result",
          "data": {
            "text/plain": [
              "[(['content', 'meta'], [0.6854285597801208, 0.2061707228422165]),\n",
              " (['content', 'header'], [0.93573397397995, 0.0533885732293129]),\n",
              " (['meta', 'content'], [0.8880570530891418, 0.09289528429508209])]"
            ]
          },
          "metadata": {},
          "execution_count": 35
        }
      ]
    }
  ]
}